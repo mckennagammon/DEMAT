{
 "cells": [
  {
   "cell_type": "markdown",
   "id": "daec9aab",
   "metadata": {},
   "source": [
    "# Heading\n",
    "\n",
    "#### Heading 4\n",
    "\n",
    "_italics_\n",
    "\n",
    "*_italics_*\n",
    "\n",
    "***italic and bold***\n",
    "\n",
    "**bold**\n",
    "\n",
    "1. thing\n",
    "2. thing\n",
    "\n",
    "- thing\n",
    "\n",
    "![name](photo url)\n",
    "\n",
    "[text](hyper link) "
   ]
  },
  {
   "cell_type": "code",
   "execution_count": 1,
   "id": "798ff95b",
   "metadata": {},
   "outputs": [
    {
     "data": {
      "text/plain": [
       "7"
      ]
     },
     "execution_count": 1,
     "metadata": {},
     "output_type": "execute_result"
    }
   ],
   "source": [
    "3+4"
   ]
  },
  {
   "cell_type": "markdown",
   "id": "61138e15",
   "metadata": {},
   "source": [
    "3+4"
   ]
  },
  {
   "cell_type": "code",
   "execution_count": 2,
   "id": "2030fc06",
   "metadata": {},
   "outputs": [],
   "source": [
    "myVariable = 3 + 4"
   ]
  },
  {
   "cell_type": "code",
   "execution_count": 3,
   "id": "d4e381bb",
   "metadata": {},
   "outputs": [
    {
     "data": {
      "text/plain": [
       "7"
      ]
     },
     "execution_count": 3,
     "metadata": {},
     "output_type": "execute_result"
    }
   ],
   "source": [
    "myVariable"
   ]
  },
  {
   "cell_type": "code",
   "execution_count": 4,
   "id": "a05af576",
   "metadata": {},
   "outputs": [
    {
     "name": "stdout",
     "output_type": "stream",
     "text": [
      "1\n",
      "2\n",
      "3\n",
      "4\n"
     ]
    }
   ],
   "source": [
    "x = [0,1,2,3,4]\n",
    "for i in x:\n",
    "    z = i + 2\n",
    "    print(z)"
   ]
  },
  {
   "cell_type": "code",
   "execution_count": 4,
   "id": "418bfd15",
   "metadata": {},
   "outputs": [],
   "source": [
    "def sillything(x): \n",
    "    return \"silly \" + str(x)"
   ]
  },
  {
   "cell_type": "code",
   "execution_count": 5,
   "id": "0c589a01",
   "metadata": {},
   "outputs": [
    {
     "data": {
      "text/plain": [
       "'silly hi'"
      ]
     },
     "execution_count": 5,
     "metadata": {},
     "output_type": "execute_result"
    }
   ],
   "source": [
    "sillything(\"hi\")"
   ]
  },
  {
   "cell_type": "code",
   "execution_count": 6,
   "id": "4f550032",
   "metadata": {},
   "outputs": [],
   "source": [
    "j = sillything(\"dog\")"
   ]
  },
  {
   "cell_type": "code",
   "execution_count": 7,
   "id": "ce4cafa6",
   "metadata": {},
   "outputs": [
    {
     "data": {
      "text/plain": [
       "'silly dog'"
      ]
     },
     "execution_count": 7,
     "metadata": {},
     "output_type": "execute_result"
    }
   ],
   "source": [
    "j"
   ]
  },
  {
   "cell_type": "code",
   "execution_count": null,
   "id": "00af5f33",
   "metadata": {},
   "outputs": [],
   "source": []
  }
 ],
 "metadata": {
  "kernelspec": {
   "display_name": "Python 3 (ipykernel)",
   "language": "python",
   "name": "python3"
  },
  "language_info": {
   "codemirror_mode": {
    "name": "ipython",
    "version": 3
   },
   "file_extension": ".py",
   "mimetype": "text/x-python",
   "name": "python",
   "nbconvert_exporter": "python",
   "pygments_lexer": "ipython3",
   "version": "3.9.6"
  }
 },
 "nbformat": 4,
 "nbformat_minor": 5
}
