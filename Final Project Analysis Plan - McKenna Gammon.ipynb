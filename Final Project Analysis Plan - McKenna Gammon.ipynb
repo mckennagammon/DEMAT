{
 "cells": [
  {
   "cell_type": "markdown",
   "id": "b28bf5bb",
   "metadata": {},
   "source": [
    "### Final Project: Analysis Plan\n",
    "#### McKenna Gammon"
   ]
  },
  {
   "cell_type": "markdown",
   "id": "b2edcbd9",
   "metadata": {},
   "source": [
    "#### Data:\n",
    "I'm still utilizing the original data set that I intended on using. However, I researched some further information. Since my dataset does have the attribute 'Actors', I think that utilizing another data set of some quantifiable information for U.S. actors will be extremely helpful in my project. I found a data set of 2021's most popular actors/actresses that are resembled by a calculated score (the calculation uses Fame and Popularity percentages). \n",
    "I want to use that (actor popularity) score in comparison to the 'Hidden Gem Score' attribute that is a column from my original data set. I want to test if the actor(s) or actress(es) in a movie with a high 'Hidden Gem Score', have a high ranking/calculation score. So, do movies with high 'Hidden Gem Scores' have \"popular\" actor(s) or actress(es) casted in them? The link to the popularity scores for actors and actresses is below:\n",
    "https://today.yougov.com/ratings/entertainment/fame/all-time-actors-actresses/all\n",
    "I will most likely need to manually transfer over these data points to a table so it can be imported into the notebook correctly for proper analysis and visualizations. I can then add/join this attribute to the already existing dataset.\n",
    "\n",
    "I want to focus on movies that have the 'Country Availability' attribute of 'United States' due to the focus of movies in the U.S. So, I will need to figure out how to select only the entities that match 'United States' before  add in the actor/actress popularity score data. For further analysis, I could also compare the new data (actress/actor popularity scores) with other scored columns containing value entities such as 'Rotton Tomatoes Score', or 'IMDb Votes', or 'Metacritic Score'."
   ]
  },
  {
   "cell_type": "code",
   "execution_count": 33,
   "id": "f14953fe",
   "metadata": {},
   "outputs": [],
   "source": [
    "import pandas as pd\n",
    "from matplotlib import pyplot as plt\n",
    "from scipy import stats"
   ]
  },
  {
   "cell_type": "code",
   "execution_count": 2,
   "id": "de505d6e",
   "metadata": {},
   "outputs": [
    {
     "name": "stdout",
     "output_type": "stream",
     "text": [
      "Aug31_inclass_practice.ipynb\r\n",
      "Equal_Audio_Features.csv\r\n",
      "Equal_Track_Data.csv\r\n",
      "Final Project - Data in Hand.ipynb\r\n",
      "Final Project Analysis Plan - McKenna Gammon.ipynb\r\n",
      "Likes Report.ipynb\r\n",
      "Montero\r\n",
      "Montero_Audio_Features.csv\r\n",
      "Montero_Track_Data.csv\r\n",
      "Nov-2-in-class-(statistical tests).ipynb\r\n",
      "Nov-4-in-class-bivariate.ipynb\r\n",
      "Oct-19-In-Class.ipynb\r\n",
      "Oct-26-in-class.ipynb\r\n",
      "October 5 - Twitter API.ipynb\r\n",
      "October-21-in-class (Indeed).ipynb\r\n",
      "October-7-in-class.ipynb\r\n",
      "Sept 7 - In-Class 2.ipynb\r\n",
      "Sept. 7 - In-Class.ipynb\r\n",
      "Sept.30_in_class.ipynb\r\n",
      "Spotify_API_Knight.ipynb\r\n",
      "Twitter Text Report.ipynb\r\n",
      "Twitter-keys.txt\r\n",
      "Untitled.ipynb\r\n",
      "Untitled1.ipynb\r\n",
      "Untitled2.ipynb\r\n",
      "Untitled3.ipynb\r\n",
      "Untitled4.ipynb\r\n",
      "bls_data.csv\r\n",
      "chinook.db\r\n",
      "netflix-rotten-tomatoes-metacritic-imdb.csv\r\n",
      "sept-28.ipynb\r\n"
     ]
    }
   ],
   "source": [
    "ls"
   ]
  },
  {
   "cell_type": "code",
   "execution_count": 8,
   "id": "7a63b808",
   "metadata": {},
   "outputs": [],
   "source": [
    "netflix_data = pd.read_csv('netflix-rotten-tomatoes-metacritic-imdb.csv', encoding = 'utf-8')"
   ]
  },
  {
   "cell_type": "code",
   "execution_count": 9,
   "id": "856d7f75",
   "metadata": {},
   "outputs": [
    {
     "data": {
      "text/html": [
       "<div>\n",
       "<style scoped>\n",
       "    .dataframe tbody tr th:only-of-type {\n",
       "        vertical-align: middle;\n",
       "    }\n",
       "\n",
       "    .dataframe tbody tr th {\n",
       "        vertical-align: top;\n",
       "    }\n",
       "\n",
       "    .dataframe thead th {\n",
       "        text-align: right;\n",
       "    }\n",
       "</style>\n",
       "<table border=\"1\" class=\"dataframe\">\n",
       "  <thead>\n",
       "    <tr style=\"text-align: right;\">\n",
       "      <th></th>\n",
       "      <th>Title</th>\n",
       "      <th>Genre</th>\n",
       "      <th>Tags</th>\n",
       "      <th>Languages</th>\n",
       "      <th>Series or Movie</th>\n",
       "      <th>Hidden Gem Score</th>\n",
       "      <th>Country Availability</th>\n",
       "      <th>Runtime</th>\n",
       "      <th>Director</th>\n",
       "      <th>Writer</th>\n",
       "      <th>...</th>\n",
       "      <th>Netflix Release Date</th>\n",
       "      <th>Production House</th>\n",
       "      <th>Netflix Link</th>\n",
       "      <th>IMDb Link</th>\n",
       "      <th>Summary</th>\n",
       "      <th>IMDb Votes</th>\n",
       "      <th>Image</th>\n",
       "      <th>Poster</th>\n",
       "      <th>TMDb Trailer</th>\n",
       "      <th>Trailer Site</th>\n",
       "    </tr>\n",
       "  </thead>\n",
       "  <tbody>\n",
       "    <tr>\n",
       "      <th>0</th>\n",
       "      <td>Lets Fight Ghost</td>\n",
       "      <td>Crime, Drama, Fantasy, Horror, Romance</td>\n",
       "      <td>Comedy Programmes,Romantic TV Comedies,Horror ...</td>\n",
       "      <td>Swedish, Spanish</td>\n",
       "      <td>Series</td>\n",
       "      <td>4.3</td>\n",
       "      <td>Thailand</td>\n",
       "      <td>&lt; 30 minutes</td>\n",
       "      <td>Tomas Alfredson</td>\n",
       "      <td>John Ajvide Lindqvist</td>\n",
       "      <td>...</td>\n",
       "      <td>2021-03-04</td>\n",
       "      <td>Canal+, Sandrew Metronome</td>\n",
       "      <td>https://www.netflix.com/watch/81415947</td>\n",
       "      <td>https://www.imdb.com/title/tt1139797</td>\n",
       "      <td>A med student with a supernatural gift tries t...</td>\n",
       "      <td>205926.0</td>\n",
       "      <td>https://occ-0-4708-64.1.nflxso.net/dnm/api/v6/...</td>\n",
       "      <td>https://m.media-amazon.com/images/M/MV5BOWM4NT...</td>\n",
       "      <td>NaN</td>\n",
       "      <td>NaN</td>\n",
       "    </tr>\n",
       "    <tr>\n",
       "      <th>1</th>\n",
       "      <td>HOW TO BUILD A GIRL</td>\n",
       "      <td>Comedy</td>\n",
       "      <td>Dramas,Comedies,Films Based on Books,British</td>\n",
       "      <td>English</td>\n",
       "      <td>Movie</td>\n",
       "      <td>7.0</td>\n",
       "      <td>Canada</td>\n",
       "      <td>1-2 hour</td>\n",
       "      <td>Coky Giedroyc</td>\n",
       "      <td>Caitlin Moran</td>\n",
       "      <td>...</td>\n",
       "      <td>2021-03-04</td>\n",
       "      <td>Film 4, Monumental Pictures, Lionsgate</td>\n",
       "      <td>https://www.netflix.com/watch/81041267</td>\n",
       "      <td>https://www.imdb.com/title/tt4193072</td>\n",
       "      <td>When nerdy Johanna moves to London, things get...</td>\n",
       "      <td>2838.0</td>\n",
       "      <td>https://occ-0-1081-999.1.nflxso.net/dnm/api/v6...</td>\n",
       "      <td>https://m.media-amazon.com/images/M/MV5BZGUyN2...</td>\n",
       "      <td>https://www.youtube.com/watch?v=eIbcxPy4okQ</td>\n",
       "      <td>YouTube</td>\n",
       "    </tr>\n",
       "    <tr>\n",
       "      <th>2</th>\n",
       "      <td>Centigrade</td>\n",
       "      <td>Drama, Thriller</td>\n",
       "      <td>Thrillers</td>\n",
       "      <td>English</td>\n",
       "      <td>Movie</td>\n",
       "      <td>6.4</td>\n",
       "      <td>Canada</td>\n",
       "      <td>1-2 hour</td>\n",
       "      <td>Brendan Walsh</td>\n",
       "      <td>Brendan Walsh, Daley Nixon</td>\n",
       "      <td>...</td>\n",
       "      <td>2021-03-04</td>\n",
       "      <td>NaN</td>\n",
       "      <td>https://www.netflix.com/watch/81305978</td>\n",
       "      <td>https://www.imdb.com/title/tt8945942</td>\n",
       "      <td>Trapped in a frozen car during a blizzard, a p...</td>\n",
       "      <td>1720.0</td>\n",
       "      <td>https://occ-0-1081-999.1.nflxso.net/dnm/api/v6...</td>\n",
       "      <td>https://m.media-amazon.com/images/M/MV5BODM2MD...</td>\n",
       "      <td>https://www.youtube.com/watch?v=0RvV7TNUlkQ</td>\n",
       "      <td>YouTube</td>\n",
       "    </tr>\n",
       "    <tr>\n",
       "      <th>3</th>\n",
       "      <td>ANNE+</td>\n",
       "      <td>Drama</td>\n",
       "      <td>TV Dramas,Romantic TV Dramas,Dutch TV Shows</td>\n",
       "      <td>Turkish</td>\n",
       "      <td>Series</td>\n",
       "      <td>7.7</td>\n",
       "      <td>Belgium,Netherlands</td>\n",
       "      <td>&lt; 30 minutes</td>\n",
       "      <td>NaN</td>\n",
       "      <td>NaN</td>\n",
       "      <td>...</td>\n",
       "      <td>2021-03-04</td>\n",
       "      <td>NaN</td>\n",
       "      <td>https://www.netflix.com/watch/81336456</td>\n",
       "      <td>https://www.imdb.com/title/tt6132758</td>\n",
       "      <td>Upon moving into a new place, a 20-something r...</td>\n",
       "      <td>1147.0</td>\n",
       "      <td>https://occ-0-1489-1490.1.nflxso.net/dnm/api/v...</td>\n",
       "      <td>https://m.media-amazon.com/images/M/MV5BNWRkMz...</td>\n",
       "      <td>NaN</td>\n",
       "      <td>NaN</td>\n",
       "    </tr>\n",
       "    <tr>\n",
       "      <th>4</th>\n",
       "      <td>Moxie</td>\n",
       "      <td>Animation, Short, Drama</td>\n",
       "      <td>Social Issue Dramas,Teen Movies,Dramas,Comedie...</td>\n",
       "      <td>English</td>\n",
       "      <td>Movie</td>\n",
       "      <td>8.1</td>\n",
       "      <td>Lithuania,Poland,France,Iceland,Italy,Spain,Gr...</td>\n",
       "      <td>1-2 hour</td>\n",
       "      <td>Stephen Irwin</td>\n",
       "      <td>NaN</td>\n",
       "      <td>...</td>\n",
       "      <td>2021-03-04</td>\n",
       "      <td>NaN</td>\n",
       "      <td>https://www.netflix.com/watch/81078393</td>\n",
       "      <td>https://www.imdb.com/title/tt2023611</td>\n",
       "      <td>Inspired by her moms rebellious past and a con...</td>\n",
       "      <td>63.0</td>\n",
       "      <td>https://occ-0-4039-1500.1.nflxso.net/dnm/api/v...</td>\n",
       "      <td>https://m.media-amazon.com/images/M/MV5BODYyNW...</td>\n",
       "      <td>NaN</td>\n",
       "      <td>NaN</td>\n",
       "    </tr>\n",
       "    <tr>\n",
       "      <th>...</th>\n",
       "      <td>...</td>\n",
       "      <td>...</td>\n",
       "      <td>...</td>\n",
       "      <td>...</td>\n",
       "      <td>...</td>\n",
       "      <td>...</td>\n",
       "      <td>...</td>\n",
       "      <td>...</td>\n",
       "      <td>...</td>\n",
       "      <td>...</td>\n",
       "      <td>...</td>\n",
       "      <td>...</td>\n",
       "      <td>...</td>\n",
       "      <td>...</td>\n",
       "      <td>...</td>\n",
       "      <td>...</td>\n",
       "      <td>...</td>\n",
       "      <td>...</td>\n",
       "      <td>...</td>\n",
       "      <td>...</td>\n",
       "      <td>...</td>\n",
       "    </tr>\n",
       "    <tr>\n",
       "      <th>15475</th>\n",
       "      <td>K-POP Extreme Survival</td>\n",
       "      <td>NaN</td>\n",
       "      <td>TV Dramas,TV Programmes,TV Comedies,Romantic T...</td>\n",
       "      <td>NaN</td>\n",
       "      <td>Series</td>\n",
       "      <td>NaN</td>\n",
       "      <td>South Korea,Argentina,United Kingdom,Australia...</td>\n",
       "      <td>&lt; 30 minutes</td>\n",
       "      <td>NaN</td>\n",
       "      <td>NaN</td>\n",
       "      <td>...</td>\n",
       "      <td>2015-04-14</td>\n",
       "      <td>NaN</td>\n",
       "      <td>https://www.netflix.com/watch/80031595</td>\n",
       "      <td>NaN</td>\n",
       "      <td>Seung Yeon decides to chase her dream of becom...</td>\n",
       "      <td>NaN</td>\n",
       "      <td>https://occ-0-2851-38.1.nflxso.net/dnm/api/v6/...</td>\n",
       "      <td>NaN</td>\n",
       "      <td>NaN</td>\n",
       "      <td>NaN</td>\n",
       "    </tr>\n",
       "    <tr>\n",
       "      <th>15476</th>\n",
       "      <td>DreamWorks Shreks Swamp Stories</td>\n",
       "      <td>NaN</td>\n",
       "      <td>Animal Tales,Family Comedies,Family Adventures...</td>\n",
       "      <td>NaN</td>\n",
       "      <td>Series</td>\n",
       "      <td>NaN</td>\n",
       "      <td>Russia,Hong Kong,Hungary,Australia,South Korea...</td>\n",
       "      <td>&lt; 30 minutes</td>\n",
       "      <td>NaN</td>\n",
       "      <td>NaN</td>\n",
       "      <td>...</td>\n",
       "      <td>2015-04-14</td>\n",
       "      <td>NaN</td>\n",
       "      <td>https://www.netflix.com/watch/70242630</td>\n",
       "      <td>NaN</td>\n",
       "      <td>Shrek celebrates Halloween, Puss in Boots is c...</td>\n",
       "      <td>NaN</td>\n",
       "      <td>https://occ-0-2851-38.1.nflxso.net/dnm/api/v6/...</td>\n",
       "      <td>NaN</td>\n",
       "      <td>NaN</td>\n",
       "      <td>NaN</td>\n",
       "    </tr>\n",
       "    <tr>\n",
       "      <th>15477</th>\n",
       "      <td>DreamWorks Happy Holidays from Madagascar</td>\n",
       "      <td>Animation, Comedy, Family</td>\n",
       "      <td>TV Comedies,Kids TV,Animal Tales,TV Cartoons,T...</td>\n",
       "      <td>English</td>\n",
       "      <td>Series</td>\n",
       "      <td>8.4</td>\n",
       "      <td>Belgium,Switzerland,United States,Germany,Unit...</td>\n",
       "      <td>&lt; 30 minutes</td>\n",
       "      <td>NaN</td>\n",
       "      <td>NaN</td>\n",
       "      <td>...</td>\n",
       "      <td>2015-04-14</td>\n",
       "      <td>NaN</td>\n",
       "      <td>https://www.netflix.com/watch/70259784</td>\n",
       "      <td>NaN</td>\n",
       "      <td>Madagascar goes wild with holiday spirit in th...</td>\n",
       "      <td>71.0</td>\n",
       "      <td>https://occ-0-2773-2774.1.nflxso.net/dnm/api/v...</td>\n",
       "      <td>NaN</td>\n",
       "      <td>NaN</td>\n",
       "      <td>NaN</td>\n",
       "    </tr>\n",
       "    <tr>\n",
       "      <th>15478</th>\n",
       "      <td>DreamWorks Holiday Classics</td>\n",
       "      <td>Animation, Comedy, Family</td>\n",
       "      <td>TV Comedies,Kids TV,TV Cartoons,TV Programmes,...</td>\n",
       "      <td>English</td>\n",
       "      <td>Series</td>\n",
       "      <td>8.2</td>\n",
       "      <td>Belgium,Switzerland,Germany,Argentina,United K...</td>\n",
       "      <td>&lt; 30 minutes</td>\n",
       "      <td>NaN</td>\n",
       "      <td>NaN</td>\n",
       "      <td>...</td>\n",
       "      <td>2015-04-14</td>\n",
       "      <td>Fox</td>\n",
       "      <td>https://www.netflix.com/watch/70221348</td>\n",
       "      <td>NaN</td>\n",
       "      <td>Join your DreamWorks friends for these four ho...</td>\n",
       "      <td>82.0</td>\n",
       "      <td>https://occ-0-2851-38.1.nflxso.net/dnm/api/v6/...</td>\n",
       "      <td>NaN</td>\n",
       "      <td>NaN</td>\n",
       "      <td>NaN</td>\n",
       "    </tr>\n",
       "    <tr>\n",
       "      <th>15479</th>\n",
       "      <td>DreamWorks Kung Fu Panda Awesome Secrets</td>\n",
       "      <td>Animation, Action, Comedy, Family</td>\n",
       "      <td>TV Comedies,Kids TV,Animal Tales,TV Cartoons,T...</td>\n",
       "      <td>English</td>\n",
       "      <td>Series</td>\n",
       "      <td>8.1</td>\n",
       "      <td>Belgium,Switzerland,Germany,United Kingdom,Fra...</td>\n",
       "      <td>&lt; 30 minutes</td>\n",
       "      <td>NaN</td>\n",
       "      <td>NaN</td>\n",
       "      <td>...</td>\n",
       "      <td>2015-04-14</td>\n",
       "      <td>NaN</td>\n",
       "      <td>https://www.netflix.com/watch/70241791</td>\n",
       "      <td>NaN</td>\n",
       "      <td>In this pair of adventures, Po tells the story...</td>\n",
       "      <td>17.0</td>\n",
       "      <td>https://occ-0-2851-38.1.nflxso.net/dnm/api/v6/...</td>\n",
       "      <td>NaN</td>\n",
       "      <td>NaN</td>\n",
       "      <td>NaN</td>\n",
       "    </tr>\n",
       "  </tbody>\n",
       "</table>\n",
       "<p>15480 rows × 29 columns</p>\n",
       "</div>"
      ],
      "text/plain": [
       "                                           Title  \\\n",
       "0                               Lets Fight Ghost   \n",
       "1                            HOW TO BUILD A GIRL   \n",
       "2                                     Centigrade   \n",
       "3                                          ANNE+   \n",
       "4                                          Moxie   \n",
       "...                                          ...   \n",
       "15475                     K-POP Extreme Survival   \n",
       "15476            DreamWorks Shreks Swamp Stories   \n",
       "15477  DreamWorks Happy Holidays from Madagascar   \n",
       "15478                DreamWorks Holiday Classics   \n",
       "15479   DreamWorks Kung Fu Panda Awesome Secrets   \n",
       "\n",
       "                                        Genre  \\\n",
       "0      Crime, Drama, Fantasy, Horror, Romance   \n",
       "1                                      Comedy   \n",
       "2                             Drama, Thriller   \n",
       "3                                       Drama   \n",
       "4                     Animation, Short, Drama   \n",
       "...                                       ...   \n",
       "15475                                     NaN   \n",
       "15476                                     NaN   \n",
       "15477               Animation, Comedy, Family   \n",
       "15478               Animation, Comedy, Family   \n",
       "15479       Animation, Action, Comedy, Family   \n",
       "\n",
       "                                                    Tags         Languages  \\\n",
       "0      Comedy Programmes,Romantic TV Comedies,Horror ...  Swedish, Spanish   \n",
       "1           Dramas,Comedies,Films Based on Books,British           English   \n",
       "2                                              Thrillers           English   \n",
       "3            TV Dramas,Romantic TV Dramas,Dutch TV Shows           Turkish   \n",
       "4      Social Issue Dramas,Teen Movies,Dramas,Comedie...           English   \n",
       "...                                                  ...               ...   \n",
       "15475  TV Dramas,TV Programmes,TV Comedies,Romantic T...               NaN   \n",
       "15476  Animal Tales,Family Comedies,Family Adventures...               NaN   \n",
       "15477  TV Comedies,Kids TV,Animal Tales,TV Cartoons,T...           English   \n",
       "15478  TV Comedies,Kids TV,TV Cartoons,TV Programmes,...           English   \n",
       "15479  TV Comedies,Kids TV,Animal Tales,TV Cartoons,T...           English   \n",
       "\n",
       "      Series or Movie  Hidden Gem Score  \\\n",
       "0              Series               4.3   \n",
       "1               Movie               7.0   \n",
       "2               Movie               6.4   \n",
       "3              Series               7.7   \n",
       "4               Movie               8.1   \n",
       "...               ...               ...   \n",
       "15475          Series               NaN   \n",
       "15476          Series               NaN   \n",
       "15477          Series               8.4   \n",
       "15478          Series               8.2   \n",
       "15479          Series               8.1   \n",
       "\n",
       "                                    Country Availability       Runtime  \\\n",
       "0                                               Thailand  < 30 minutes   \n",
       "1                                                 Canada      1-2 hour   \n",
       "2                                                 Canada      1-2 hour   \n",
       "3                                    Belgium,Netherlands  < 30 minutes   \n",
       "4      Lithuania,Poland,France,Iceland,Italy,Spain,Gr...      1-2 hour   \n",
       "...                                                  ...           ...   \n",
       "15475  South Korea,Argentina,United Kingdom,Australia...  < 30 minutes   \n",
       "15476  Russia,Hong Kong,Hungary,Australia,South Korea...  < 30 minutes   \n",
       "15477  Belgium,Switzerland,United States,Germany,Unit...  < 30 minutes   \n",
       "15478  Belgium,Switzerland,Germany,Argentina,United K...  < 30 minutes   \n",
       "15479  Belgium,Switzerland,Germany,United Kingdom,Fra...  < 30 minutes   \n",
       "\n",
       "              Director                      Writer  ... Netflix Release Date  \\\n",
       "0      Tomas Alfredson       John Ajvide Lindqvist  ...           2021-03-04   \n",
       "1        Coky Giedroyc               Caitlin Moran  ...           2021-03-04   \n",
       "2        Brendan Walsh  Brendan Walsh, Daley Nixon  ...           2021-03-04   \n",
       "3                  NaN                         NaN  ...           2021-03-04   \n",
       "4        Stephen Irwin                         NaN  ...           2021-03-04   \n",
       "...                ...                         ...  ...                  ...   \n",
       "15475              NaN                         NaN  ...           2015-04-14   \n",
       "15476              NaN                         NaN  ...           2015-04-14   \n",
       "15477              NaN                         NaN  ...           2015-04-14   \n",
       "15478              NaN                         NaN  ...           2015-04-14   \n",
       "15479              NaN                         NaN  ...           2015-04-14   \n",
       "\n",
       "                             Production House  \\\n",
       "0                   Canal+, Sandrew Metronome   \n",
       "1      Film 4, Monumental Pictures, Lionsgate   \n",
       "2                                         NaN   \n",
       "3                                         NaN   \n",
       "4                                         NaN   \n",
       "...                                       ...   \n",
       "15475                                     NaN   \n",
       "15476                                     NaN   \n",
       "15477                                     NaN   \n",
       "15478                                     Fox   \n",
       "15479                                     NaN   \n",
       "\n",
       "                                 Netflix Link  \\\n",
       "0      https://www.netflix.com/watch/81415947   \n",
       "1      https://www.netflix.com/watch/81041267   \n",
       "2      https://www.netflix.com/watch/81305978   \n",
       "3      https://www.netflix.com/watch/81336456   \n",
       "4      https://www.netflix.com/watch/81078393   \n",
       "...                                       ...   \n",
       "15475  https://www.netflix.com/watch/80031595   \n",
       "15476  https://www.netflix.com/watch/70242630   \n",
       "15477  https://www.netflix.com/watch/70259784   \n",
       "15478  https://www.netflix.com/watch/70221348   \n",
       "15479  https://www.netflix.com/watch/70241791   \n",
       "\n",
       "                                  IMDb Link  \\\n",
       "0      https://www.imdb.com/title/tt1139797   \n",
       "1      https://www.imdb.com/title/tt4193072   \n",
       "2      https://www.imdb.com/title/tt8945942   \n",
       "3      https://www.imdb.com/title/tt6132758   \n",
       "4      https://www.imdb.com/title/tt2023611   \n",
       "...                                     ...   \n",
       "15475                                   NaN   \n",
       "15476                                   NaN   \n",
       "15477                                   NaN   \n",
       "15478                                   NaN   \n",
       "15479                                   NaN   \n",
       "\n",
       "                                                 Summary  IMDb Votes  \\\n",
       "0      A med student with a supernatural gift tries t...    205926.0   \n",
       "1      When nerdy Johanna moves to London, things get...      2838.0   \n",
       "2      Trapped in a frozen car during a blizzard, a p...      1720.0   \n",
       "3      Upon moving into a new place, a 20-something r...      1147.0   \n",
       "4      Inspired by her moms rebellious past and a con...        63.0   \n",
       "...                                                  ...         ...   \n",
       "15475  Seung Yeon decides to chase her dream of becom...         NaN   \n",
       "15476  Shrek celebrates Halloween, Puss in Boots is c...         NaN   \n",
       "15477  Madagascar goes wild with holiday spirit in th...        71.0   \n",
       "15478  Join your DreamWorks friends for these four ho...        82.0   \n",
       "15479  In this pair of adventures, Po tells the story...        17.0   \n",
       "\n",
       "                                                   Image  \\\n",
       "0      https://occ-0-4708-64.1.nflxso.net/dnm/api/v6/...   \n",
       "1      https://occ-0-1081-999.1.nflxso.net/dnm/api/v6...   \n",
       "2      https://occ-0-1081-999.1.nflxso.net/dnm/api/v6...   \n",
       "3      https://occ-0-1489-1490.1.nflxso.net/dnm/api/v...   \n",
       "4      https://occ-0-4039-1500.1.nflxso.net/dnm/api/v...   \n",
       "...                                                  ...   \n",
       "15475  https://occ-0-2851-38.1.nflxso.net/dnm/api/v6/...   \n",
       "15476  https://occ-0-2851-38.1.nflxso.net/dnm/api/v6/...   \n",
       "15477  https://occ-0-2773-2774.1.nflxso.net/dnm/api/v...   \n",
       "15478  https://occ-0-2851-38.1.nflxso.net/dnm/api/v6/...   \n",
       "15479  https://occ-0-2851-38.1.nflxso.net/dnm/api/v6/...   \n",
       "\n",
       "                                                  Poster  \\\n",
       "0      https://m.media-amazon.com/images/M/MV5BOWM4NT...   \n",
       "1      https://m.media-amazon.com/images/M/MV5BZGUyN2...   \n",
       "2      https://m.media-amazon.com/images/M/MV5BODM2MD...   \n",
       "3      https://m.media-amazon.com/images/M/MV5BNWRkMz...   \n",
       "4      https://m.media-amazon.com/images/M/MV5BODYyNW...   \n",
       "...                                                  ...   \n",
       "15475                                                NaN   \n",
       "15476                                                NaN   \n",
       "15477                                                NaN   \n",
       "15478                                                NaN   \n",
       "15479                                                NaN   \n",
       "\n",
       "                                      TMDb Trailer Trailer Site  \n",
       "0                                              NaN          NaN  \n",
       "1      https://www.youtube.com/watch?v=eIbcxPy4okQ      YouTube  \n",
       "2      https://www.youtube.com/watch?v=0RvV7TNUlkQ      YouTube  \n",
       "3                                              NaN          NaN  \n",
       "4                                              NaN          NaN  \n",
       "...                                            ...          ...  \n",
       "15475                                          NaN          NaN  \n",
       "15476                                          NaN          NaN  \n",
       "15477                                          NaN          NaN  \n",
       "15478                                          NaN          NaN  \n",
       "15479                                          NaN          NaN  \n",
       "\n",
       "[15480 rows x 29 columns]"
      ]
     },
     "execution_count": 9,
     "metadata": {},
     "output_type": "execute_result"
    }
   ],
   "source": [
    "netflix_data"
   ]
  },
  {
   "cell_type": "code",
   "execution_count": 10,
   "id": "600fdcec",
   "metadata": {
    "scrolled": true
   },
   "outputs": [
    {
     "data": {
      "text/plain": [
       "Index(['Title', 'Genre', 'Tags', 'Languages', 'Series or Movie',\n",
       "       'Hidden Gem Score', 'Country Availability', 'Runtime', 'Director',\n",
       "       'Writer', 'Actors', 'View Rating', 'IMDb Score',\n",
       "       'Rotten Tomatoes Score', 'Metacritic Score', 'Awards Received',\n",
       "       'Awards Nominated For', 'Boxoffice', 'Release Date',\n",
       "       'Netflix Release Date', 'Production House', 'Netflix Link', 'IMDb Link',\n",
       "       'Summary', 'IMDb Votes', 'Image', 'Poster', 'TMDb Trailer',\n",
       "       'Trailer Site'],\n",
       "      dtype='object')"
      ]
     },
     "execution_count": 10,
     "metadata": {},
     "output_type": "execute_result"
    }
   ],
   "source": [
    "netflix_data.keys()"
   ]
  },
  {
   "cell_type": "code",
   "execution_count": 59,
   "id": "a0cb6dd2",
   "metadata": {
    "scrolled": true
   },
   "outputs": [
    {
     "data": {
      "text/plain": [
       "0        Swedish, Spanish\n",
       "1                 English\n",
       "2                 English\n",
       "3                 Turkish\n",
       "4                 English\n",
       "               ...       \n",
       "15475                 NaN\n",
       "15476                 NaN\n",
       "15477             English\n",
       "15478             English\n",
       "15479             English\n",
       "Name: Languages, Length: 15480, dtype: category\n",
       "Categories (1438, object): ['Afrikaans', 'Afrikaans, English', 'Afrikaans, German, Swiss German', 'Akan', ..., 'Zulu', 'Zulu, Afrikaans, Xhosa, English', 'Zulu, English, Southern Sotho, Tswana', 'Zulu, Xhosa, Afrikaans, English']"
      ]
     },
     "execution_count": 59,
     "metadata": {},
     "output_type": "execute_result"
    }
   ],
   "source": [
    "netflix_data['Languages'].astype('category')"
   ]
  },
  {
   "cell_type": "code",
   "execution_count": 62,
   "id": "7499b949",
   "metadata": {},
   "outputs": [
    {
     "data": {
      "text/plain": [
       "0        4.3\n",
       "1        7.0\n",
       "2        6.4\n",
       "3        7.7\n",
       "4        8.1\n",
       "        ... \n",
       "15475    NaN\n",
       "15476    NaN\n",
       "15477    8.4\n",
       "15478    8.2\n",
       "15479    8.1\n",
       "Name: Hidden Gem Score, Length: 15480, dtype: category\n",
       "Categories (93, float64): [0.6, 0.7, 0.8, 0.9, ..., 9.5, 9.6, 9.7, 9.8]"
      ]
     },
     "execution_count": 62,
     "metadata": {},
     "output_type": "execute_result"
    }
   ],
   "source": [
    "netflix_data['Hidden Gem Score'].astype('category')"
   ]
  },
  {
   "cell_type": "code",
   "execution_count": 65,
   "id": "1bacc6f1",
   "metadata": {},
   "outputs": [
    {
     "data": {
      "text/plain": [
       "0        82.0\n",
       "1        69.0\n",
       "2        46.0\n",
       "3         NaN\n",
       "4         NaN\n",
       "         ... \n",
       "15475     NaN\n",
       "15476     NaN\n",
       "15477     NaN\n",
       "15478     NaN\n",
       "15479     NaN\n",
       "Name: Metacritic Score, Length: 15480, dtype: category\n",
       "Categories (95, float64): [5.0, 6.0, 8.0, 9.0, ..., 97.0, 98.0, 99.0, 100.0]"
      ]
     },
     "execution_count": 65,
     "metadata": {},
     "output_type": "execute_result"
    }
   ],
   "source": [
    "netflix_data['Metacritic Score'].astype('category')"
   ]
  },
  {
   "cell_type": "markdown",
   "id": "fd4ac919",
   "metadata": {},
   "source": [
    "#### * Will need to clean data further to only select/show movies (in analysis, results, and visualizations) that have a Hidden Gem Score, Metacritic Score, Rotten Tomatoes Score, etc. for more accurate comparison of the movie data entries."
   ]
  },
  {
   "cell_type": "code",
   "execution_count": 66,
   "id": "5d3d73e8",
   "metadata": {},
   "outputs": [
    {
     "data": {
      "text/plain": [
       "'Will Shadley, Amber Valletta, Madeline Carroll, Jackie Chan'"
      ]
     },
     "execution_count": 66,
     "metadata": {},
     "output_type": "execute_result"
    }
   ],
   "source": [
    "netflix_data['Actors'].iloc[15130]"
   ]
  },
  {
   "cell_type": "code",
   "execution_count": 32,
   "id": "a7b795b8",
   "metadata": {},
   "outputs": [
    {
     "data": {
      "text/plain": [
       "'Thomas Haden Church, Tobey Maguire, Kirsten Dunst, James Franco'"
      ]
     },
     "execution_count": 32,
     "metadata": {},
     "output_type": "execute_result"
    }
   ],
   "source": [
    "netflix_data['Actors'].iloc[13536]"
   ]
  },
  {
   "cell_type": "code",
   "execution_count": 48,
   "id": "871d42f6",
   "metadata": {
    "scrolled": true
   },
   "outputs": [
    {
     "data": {
      "image/png": "[encoded data removed]",
      "text/plain": [
       "<Figure size 648x648 with 1 Axes>"
      ]
     },
     "metadata": {
      "needs_background": "light"
     },
     "output_type": "display_data"
    }
   ],
   "source": [
    "fig1, ax1 = plt.subplots(1, 1, figsize = (9, 9))\n",
    "ax1.hist(netflix_data['Hidden Gem Score'], bins = 6, color = 'blue', alpha = .5)\n",
    "ax1.hist(netflix_data['Metacritic Score'], bins = 4, color = 'red', alpha = .5)\n",
    "plt.show()"
   ]
  },
  {
   "cell_type": "code",
   "execution_count": 45,
   "id": "69ee4bfd",
   "metadata": {},
   "outputs": [
    {
     "data": {
      "text/plain": [
       "DescribeResult(nobs=15480, minmax=(nan, nan), mean=nan, variance=nan, skewness=nan, kurtosis=nan)"
      ]
     },
     "execution_count": 45,
     "metadata": {},
     "output_type": "execute_result"
    }
   ],
   "source": [
    "stats.describe(netflix_data['Metacritic Score'])"
   ]
  },
  {
   "cell_type": "code",
   "execution_count": 46,
   "id": "52968c26",
   "metadata": {},
   "outputs": [
    {
     "data": {
      "text/plain": [
       "DescribeResult(nobs=15480, minmax=(nan, nan), mean=nan, variance=nan, skewness=nan, kurtosis=nan)"
      ]
     },
     "execution_count": 46,
     "metadata": {},
     "output_type": "execute_result"
    }
   ],
   "source": [
    "stats.describe(netflix_data['Hidden Gem Score'])"
   ]
  },
  {
   "cell_type": "code",
   "execution_count": 50,
   "id": "517fda13",
   "metadata": {},
   "outputs": [
    {
     "data": {
      "image/png": "[encoded data removed]",
      "text/plain": [
       "<Figure size 648x648 with 1 Axes>"
      ]
     },
     "metadata": {
      "needs_background": "light"
     },
     "output_type": "display_data"
    }
   ],
   "source": [
    "fig1, ax1 = plt.subplots(1, 1, figsize = (9, 9))\n",
    "ax1.hist(netflix_data['Hidden Gem Score'], bins = 6, color = 'blue', alpha = .5)\n",
    "ax1.hist(netflix_data['Rotten Tomatoes Score'], bins = 4, color = 'red', alpha = .5)\n",
    "plt.show()"
   ]
  },
  {
   "cell_type": "code",
   "execution_count": 51,
   "id": "981a0fa2",
   "metadata": {},
   "outputs": [
    {
     "data": {
      "image/png": "[encoded data removed]",
      "text/plain": [
       "<Figure size 648x648 with 1 Axes>"
      ]
     },
     "metadata": {
      "needs_background": "light"
     },
     "output_type": "display_data"
    }
   ],
   "source": [
    "fig1, ax1 = plt.subplots(1, 1, figsize = (9, 9))\n",
    "ax1.hist(netflix_data['Rotten Tomatoes Score'], bins = 6, color = 'blue', alpha = .5)\n",
    "ax1.hist(netflix_data['Metacritic Score'], bins = 4, color = 'red', alpha = .5)\n",
    "plt.show()"
   ]
  },
  {
   "cell_type": "code",
   "execution_count": null,
   "id": "2af2e4be",
   "metadata": {},
   "outputs": [],
   "source": []
  }
 ],
 "metadata": {
  "kernelspec": {
   "display_name": "Python 3 (ipykernel)",
   "language": "python",
   "name": "python3"
  },
  "language_info": {
   "codemirror_mode": {
    "name": "ipython",
    "version": 3
   },
   "file_extension": ".py",
   "mimetype": "text/x-python",
   "name": "python",
   "nbconvert_exporter": "python",
   "pygments_lexer": "ipython3",
   "version": "3.9.6"
  }
 },
 "nbformat": 4,
 "nbformat_minor": 5
}
